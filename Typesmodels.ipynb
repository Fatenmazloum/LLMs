{
 "cells": [
  {
   "cell_type": "markdown",
   "id": "1fb11f1e",
   "metadata": {},
   "source": [
    "We have two types of models:\n",
    "\n",
    "1. open source model like bert,LLaMA, roberta.. they are free we can use it locally and fine tune it online or offline using gpu or cpu(online in colap or offline if we have gpu in our pc)\n",
    "2. Proprietary can't see its weight and requires subscripsion license like chatgpt. Use it  via API .\n",
    "\n",
    "Like we have smart chef in secret kitchen we cannot take chef home we can place an order via delivery API.\n"
   ]
  },
  {
   "cell_type": "markdown",
   "id": "c7c0760c",
   "metadata": {},
   "source": [
    "BERT and RoBERTa are both open-source Transformer models (encoder-only) that help computers understand human language.\n",
    "They are mainly used for understanding tasks such as sentiment analysis, question answering, and text classification — they process and understand the input.\n",
    "\n",
    "LLaMA, on the other hand, is a (partially) open-source Transformer model — but it's decoder-only and generative.\n",
    "It’s used for tasks like text generation, sentence completion, and conversation.\n",
    "LLaMA is similar to GPT in how it works, but it's more open — you can download, run, and fine-tune it (with some license restrictions).\n",
    "Meanwhile, ChatGPT (based on GPT models) is fully proprietary — you can’t fine-tune or run it locally; it’s only accessible through OpenAI’s platform."
   ]
  },
  {
   "cell_type": "markdown",
   "id": "8fa7c867",
   "metadata": {},
   "source": [
    "Hallucination model gives wrong answers solve it using RAG architecture by creating vector database"
   ]
  },
  {
   "cell_type": "code",
   "execution_count": null,
   "id": "67d6f11e",
   "metadata": {},
   "outputs": [],
   "source": [
    "# Use a pipeline as a high-level helper\n",
    "tok=\"**\"#from hugging face \n",
    "from transformers import pipeline\n",
    "pipe = pipeline(\"text-generation\", model=\"meta-llama/Meta-Llama-3-8B\",token=tok)"
   ]
  }
 ],
 "metadata": {
  "kernelspec": {
   "display_name": "venv",
   "language": "python",
   "name": "python3"
  },
  "language_info": {
   "codemirror_mode": {
    "name": "ipython",
    "version": 3
   },
   "file_extension": ".py",
   "mimetype": "text/x-python",
   "name": "python",
   "nbconvert_exporter": "python",
   "pygments_lexer": "ipython3",
   "version": "3.10.3"
  }
 },
 "nbformat": 4,
 "nbformat_minor": 5
}
