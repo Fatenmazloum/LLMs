{
 "cells": [
  {
   "cell_type": "markdown",
   "id": "a5d99927",
   "metadata": {},
   "source": [
    "Finetunning bert-cased-used(which understand input deeply and english human language and distinguish between lower and uppercase) on my own dataset(airline dataset) that include customers feedback and sentiment labels will improve the performane of the pretrained model. Training it on my own dataset will produce an updated version  that is ready now to predict the sentiment of any new text."
   ]
  },
  {
   "cell_type": "markdown",
   "id": "38c2f3ee",
   "metadata": {},
   "source": [
    "Pretrained model: Model already trained and now ready to make predictions\n",
    "\n",
    "Fine-tuning is when we take a pretrained model and train it a bit more on my new dataset to improve its perfromance.\n",
    "\n",
    "Berta and Roberta both encoders and transformers models that undestand input deeply and know english language  (can be used for sentiment analysis to clssify attitudes of texts). "
   ]
  },
  {
   "cell_type": "markdown",
   "id": "785b22a9",
   "metadata": {},
   "source": [
    "Finetunning:\n",
    "Start with Pre-trained Model: Use a model like BERT that has already learned general language patterns.\n",
    "\n",
    "Train on Your Data: You train it on your own task-specific data (like labeled sentiment analysis data) for a few epochs (iterations), which helps the model adjust to your task.\n",
    "\n",
    "Save and Evaluate: After training, you save the model and check its performance on new, unseen data (validation set)."
   ]
  },
  {
   "cell_type": "code",
   "execution_count": null,
   "id": "1e37a670",
   "metadata": {},
   "outputs": [
    {
     "name": "stderr",
     "output_type": "stream",
     "text": [
      "  % Total    % Received % Xferd  Average Speed   Time    Time     Time  Current\n",
      "                                 Dload  Upload   Total   Spent    Left  Speed\n",
      "\n",
      "  0     0    0     0    0     0      0      0 --:--:-- --:--:-- --:--:--     0\n",
      "100   134  100   134    0     0    337      0 --:--:-- --:--:-- --:--:--   343\n",
      "\n",
      "  0     0    0     0    0     0      0      0 --:--:-- --:--:-- --:--:--     0\n",
      "100    17  100    17    0     0     21      0 --:--:-- --:--:-- --:--:-- 17000\n",
      "\n",
      "  3 3341k    3  112k    0     0  80774      0  0:00:42  0:00:01  0:00:41 80774\n",
      "100 3341k  100 3341k    0     0  2110k      0  0:00:01  0:00:01 --:--:-- 19.3M\n"
     ]
    }
   ],
   "source": [
    "# download data from provided link \n",
    "!curl -L -O https://www.dropbox.com/s/lkd0eklmi64m9xm/AirlineTweets.csv?dl=1\n",
    "#! runs the command in the system's shell.\n",
    "\n",
    "#curl -L -O is the correct curl command.(curl work with dropbox(cloud storage service), L tell curl to redirect,0 saves the file with the same name as it has on the server)\n",
    "\n",
    "#The ?dl=1 at the end forces Dropbox to provide a direct download link.\n",
    "\n"
   ]
  },
  {
   "cell_type": "code",
   "execution_count": null,
   "id": "c9a24bd0",
   "metadata": {},
   "outputs": [],
   "source": [
    "import pandas as pd\n",
    "import numpy as np\n",
    "import seaborn as sns\n",
    "import torch\n",
    "from sklearn.metrics import f1_score,accuracy_score, confusion_matrix\n",
    "from sklearn.model_selection import train_test_split\n",
    "#dataset already founded and pytorch and transformers\n"
   ]
  },
  {
   "cell_type": "markdown",
   "id": "997404d2",
   "metadata": {},
   "source": [
    "seaborn high level for drawing from matplotlib\n",
    "\n",
    "sklear.metrices for score, performanece, accuracy..\n"
   ]
  },
  {
   "cell_type": "code",
   "execution_count": 14,
   "id": "221c0677",
   "metadata": {},
   "outputs": [
    {
     "data": {
      "text/html": [
       "<div>\n",
       "<style scoped>\n",
       "    .dataframe tbody tr th:only-of-type {\n",
       "        vertical-align: middle;\n",
       "    }\n",
       "\n",
       "    .dataframe tbody tr th {\n",
       "        vertical-align: top;\n",
       "    }\n",
       "\n",
       "    .dataframe thead th {\n",
       "        text-align: right;\n",
       "    }\n",
       "</style>\n",
       "<table border=\"1\" class=\"dataframe\">\n",
       "  <thead>\n",
       "    <tr style=\"text-align: right;\">\n",
       "      <th></th>\n",
       "      <th>tweet_id</th>\n",
       "      <th>airline_sentiment</th>\n",
       "      <th>airline_sentiment_confidence</th>\n",
       "      <th>negativereason</th>\n",
       "      <th>negativereason_confidence</th>\n",
       "      <th>airline</th>\n",
       "      <th>airline_sentiment_gold</th>\n",
       "      <th>name</th>\n",
       "      <th>negativereason_gold</th>\n",
       "      <th>retweet_count</th>\n",
       "      <th>text</th>\n",
       "      <th>tweet_coord</th>\n",
       "      <th>tweet_created</th>\n",
       "      <th>tweet_location</th>\n",
       "      <th>user_timezone</th>\n",
       "    </tr>\n",
       "  </thead>\n",
       "  <tbody>\n",
       "    <tr>\n",
       "      <th>0</th>\n",
       "      <td>570306133677760513</td>\n",
       "      <td>neutral</td>\n",
       "      <td>1.0000</td>\n",
       "      <td>NaN</td>\n",
       "      <td>NaN</td>\n",
       "      <td>Virgin America</td>\n",
       "      <td>NaN</td>\n",
       "      <td>cairdin</td>\n",
       "      <td>NaN</td>\n",
       "      <td>0</td>\n",
       "      <td>@VirginAmerica What @dhepburn said.</td>\n",
       "      <td>NaN</td>\n",
       "      <td>2015-02-24 11:35:52 -0800</td>\n",
       "      <td>NaN</td>\n",
       "      <td>Eastern Time (US &amp; Canada)</td>\n",
       "    </tr>\n",
       "    <tr>\n",
       "      <th>1</th>\n",
       "      <td>570301130888122368</td>\n",
       "      <td>positive</td>\n",
       "      <td>0.3486</td>\n",
       "      <td>NaN</td>\n",
       "      <td>0.0000</td>\n",
       "      <td>Virgin America</td>\n",
       "      <td>NaN</td>\n",
       "      <td>jnardino</td>\n",
       "      <td>NaN</td>\n",
       "      <td>0</td>\n",
       "      <td>@VirginAmerica plus you've added commercials t...</td>\n",
       "      <td>NaN</td>\n",
       "      <td>2015-02-24 11:15:59 -0800</td>\n",
       "      <td>NaN</td>\n",
       "      <td>Pacific Time (US &amp; Canada)</td>\n",
       "    </tr>\n",
       "    <tr>\n",
       "      <th>2</th>\n",
       "      <td>570301083672813571</td>\n",
       "      <td>neutral</td>\n",
       "      <td>0.6837</td>\n",
       "      <td>NaN</td>\n",
       "      <td>NaN</td>\n",
       "      <td>Virgin America</td>\n",
       "      <td>NaN</td>\n",
       "      <td>yvonnalynn</td>\n",
       "      <td>NaN</td>\n",
       "      <td>0</td>\n",
       "      <td>@VirginAmerica I didn't today... Must mean I n...</td>\n",
       "      <td>NaN</td>\n",
       "      <td>2015-02-24 11:15:48 -0800</td>\n",
       "      <td>Lets Play</td>\n",
       "      <td>Central Time (US &amp; Canada)</td>\n",
       "    </tr>\n",
       "    <tr>\n",
       "      <th>3</th>\n",
       "      <td>570301031407624196</td>\n",
       "      <td>negative</td>\n",
       "      <td>1.0000</td>\n",
       "      <td>Bad Flight</td>\n",
       "      <td>0.7033</td>\n",
       "      <td>Virgin America</td>\n",
       "      <td>NaN</td>\n",
       "      <td>jnardino</td>\n",
       "      <td>NaN</td>\n",
       "      <td>0</td>\n",
       "      <td>@VirginAmerica it's really aggressive to blast...</td>\n",
       "      <td>NaN</td>\n",
       "      <td>2015-02-24 11:15:36 -0800</td>\n",
       "      <td>NaN</td>\n",
       "      <td>Pacific Time (US &amp; Canada)</td>\n",
       "    </tr>\n",
       "    <tr>\n",
       "      <th>4</th>\n",
       "      <td>570300817074462722</td>\n",
       "      <td>negative</td>\n",
       "      <td>1.0000</td>\n",
       "      <td>Can't Tell</td>\n",
       "      <td>1.0000</td>\n",
       "      <td>Virgin America</td>\n",
       "      <td>NaN</td>\n",
       "      <td>jnardino</td>\n",
       "      <td>NaN</td>\n",
       "      <td>0</td>\n",
       "      <td>@VirginAmerica and it's a really big bad thing...</td>\n",
       "      <td>NaN</td>\n",
       "      <td>2015-02-24 11:14:45 -0800</td>\n",
       "      <td>NaN</td>\n",
       "      <td>Pacific Time (US &amp; Canada)</td>\n",
       "    </tr>\n",
       "  </tbody>\n",
       "</table>\n",
       "</div>"
      ],
      "text/plain": [
       "             tweet_id airline_sentiment  airline_sentiment_confidence  \\\n",
       "0  570306133677760513           neutral                        1.0000   \n",
       "1  570301130888122368          positive                        0.3486   \n",
       "2  570301083672813571           neutral                        0.6837   \n",
       "3  570301031407624196          negative                        1.0000   \n",
       "4  570300817074462722          negative                        1.0000   \n",
       "\n",
       "  negativereason  negativereason_confidence         airline  \\\n",
       "0            NaN                        NaN  Virgin America   \n",
       "1            NaN                     0.0000  Virgin America   \n",
       "2            NaN                        NaN  Virgin America   \n",
       "3     Bad Flight                     0.7033  Virgin America   \n",
       "4     Can't Tell                     1.0000  Virgin America   \n",
       "\n",
       "  airline_sentiment_gold        name negativereason_gold  retweet_count  \\\n",
       "0                    NaN     cairdin                 NaN              0   \n",
       "1                    NaN    jnardino                 NaN              0   \n",
       "2                    NaN  yvonnalynn                 NaN              0   \n",
       "3                    NaN    jnardino                 NaN              0   \n",
       "4                    NaN    jnardino                 NaN              0   \n",
       "\n",
       "                                                text tweet_coord  \\\n",
       "0                @VirginAmerica What @dhepburn said.         NaN   \n",
       "1  @VirginAmerica plus you've added commercials t...         NaN   \n",
       "2  @VirginAmerica I didn't today... Must mean I n...         NaN   \n",
       "3  @VirginAmerica it's really aggressive to blast...         NaN   \n",
       "4  @VirginAmerica and it's a really big bad thing...         NaN   \n",
       "\n",
       "               tweet_created tweet_location               user_timezone  \n",
       "0  2015-02-24 11:35:52 -0800            NaN  Eastern Time (US & Canada)  \n",
       "1  2015-02-24 11:15:59 -0800            NaN  Pacific Time (US & Canada)  \n",
       "2  2015-02-24 11:15:48 -0800      Lets Play  Central Time (US & Canada)  \n",
       "3  2015-02-24 11:15:36 -0800            NaN  Pacific Time (US & Canada)  \n",
       "4  2015-02-24 11:14:45 -0800            NaN  Pacific Time (US & Canada)  "
      ]
     },
     "execution_count": 14,
     "metadata": {},
     "output_type": "execute_result"
    }
   ],
   "source": [
    "df = pd.read_csv(r\"C:\\Users\\asus\\Desktop\\LLM\\AirlineTweets.csv\")\n",
    "df.head()"
   ]
  },
  {
   "cell_type": "code",
   "execution_count": 15,
   "id": "10e332f1",
   "metadata": {},
   "outputs": [
    {
     "name": "stdout",
     "output_type": "stream",
     "text": [
      "<class 'pandas.core.frame.DataFrame'>\n",
      "RangeIndex: 14640 entries, 0 to 14639\n",
      "Data columns (total 15 columns):\n",
      " #   Column                        Non-Null Count  Dtype  \n",
      "---  ------                        --------------  -----  \n",
      " 0   tweet_id                      14640 non-null  int64  \n",
      " 1   airline_sentiment             14640 non-null  object \n",
      " 2   airline_sentiment_confidence  14640 non-null  float64\n",
      " 3   negativereason                9178 non-null   object \n",
      " 4   negativereason_confidence     10522 non-null  float64\n",
      " 5   airline                       14640 non-null  object \n",
      " 6   airline_sentiment_gold        40 non-null     object \n",
      " 7   name                          14640 non-null  object \n",
      " 8   negativereason_gold           32 non-null     object \n",
      " 9   retweet_count                 14640 non-null  int64  \n",
      " 10  text                          14640 non-null  object \n",
      " 11  tweet_coord                   1019 non-null   object \n",
      " 12  tweet_created                 14640 non-null  object \n",
      " 13  tweet_location                9907 non-null   object \n",
      " 14  user_timezone                 9820 non-null   object \n",
      "dtypes: float64(2), int64(2), object(11)\n",
      "memory usage: 1.7+ MB\n"
     ]
    }
   ],
   "source": [
    "df.info()"
   ]
  },
  {
   "cell_type": "code",
   "execution_count": 18,
   "id": "a65dd458",
   "metadata": {},
   "outputs": [
    {
     "data": {
      "text/html": [
       "<div>\n",
       "<style scoped>\n",
       "    .dataframe tbody tr th:only-of-type {\n",
       "        vertical-align: middle;\n",
       "    }\n",
       "\n",
       "    .dataframe tbody tr th {\n",
       "        vertical-align: top;\n",
       "    }\n",
       "\n",
       "    .dataframe thead th {\n",
       "        text-align: right;\n",
       "    }\n",
       "</style>\n",
       "<table border=\"1\" class=\"dataframe\">\n",
       "  <thead>\n",
       "    <tr style=\"text-align: right;\">\n",
       "      <th></th>\n",
       "      <th>airline_sentiment</th>\n",
       "      <th>text</th>\n",
       "    </tr>\n",
       "  </thead>\n",
       "  <tbody>\n",
       "    <tr>\n",
       "      <th>0</th>\n",
       "      <td>neutral</td>\n",
       "      <td>@VirginAmerica What @dhepburn said.</td>\n",
       "    </tr>\n",
       "    <tr>\n",
       "      <th>1</th>\n",
       "      <td>positive</td>\n",
       "      <td>@VirginAmerica plus you've added commercials t...</td>\n",
       "    </tr>\n",
       "    <tr>\n",
       "      <th>2</th>\n",
       "      <td>neutral</td>\n",
       "      <td>@VirginAmerica I didn't today... Must mean I n...</td>\n",
       "    </tr>\n",
       "    <tr>\n",
       "      <th>3</th>\n",
       "      <td>negative</td>\n",
       "      <td>@VirginAmerica it's really aggressive to blast...</td>\n",
       "    </tr>\n",
       "    <tr>\n",
       "      <th>4</th>\n",
       "      <td>negative</td>\n",
       "      <td>@VirginAmerica and it's a really big bad thing...</td>\n",
       "    </tr>\n",
       "  </tbody>\n",
       "</table>\n",
       "</div>"
      ],
      "text/plain": [
       "  airline_sentiment                                               text\n",
       "0           neutral                @VirginAmerica What @dhepburn said.\n",
       "1          positive  @VirginAmerica plus you've added commercials t...\n",
       "2           neutral  @VirginAmerica I didn't today... Must mean I n...\n",
       "3          negative  @VirginAmerica it's really aggressive to blast...\n",
       "4          negative  @VirginAmerica and it's a really big bad thing..."
      ]
     },
     "execution_count": 18,
     "metadata": {},
     "output_type": "execute_result"
    }
   ],
   "source": [
    "df=df[['airline_sentiment','text']]\n",
    "df.head()"
   ]
  },
  {
   "cell_type": "code",
   "execution_count": 19,
   "id": "0d8efcf4",
   "metadata": {},
   "outputs": [
    {
     "data": {
      "text/plain": [
       "<Axes: >"
      ]
     },
     "execution_count": 19,
     "metadata": {},
     "output_type": "execute_result"
    },
    {
     "data": {
      "image/png": "[encoded data removed]",
      "text/plain": [
       "<Figure size 640x480 with 1 Axes>"
      ]
     },
     "metadata": {},
     "output_type": "display_data"
    }
   ],
   "source": [
    "df['airline_sentiment'].hist()"
   ]
  },
  {
   "cell_type": "code",
   "execution_count": null,
   "id": "a200cd33",
   "metadata": {},
   "outputs": [
    {
     "data": {
      "text/html": [
       "<div>\n",
       "<style scoped>\n",
       "    .dataframe tbody tr th:only-of-type {\n",
       "        vertical-align: middle;\n",
       "    }\n",
       "\n",
       "    .dataframe tbody tr th {\n",
       "        vertical-align: top;\n",
       "    }\n",
       "\n",
       "    .dataframe thead th {\n",
       "        text-align: right;\n",
       "    }\n",
       "</style>\n",
       "<table border=\"1\" class=\"dataframe\">\n",
       "  <thead>\n",
       "    <tr style=\"text-align: right;\">\n",
       "      <th></th>\n",
       "      <th>airline_sentiment</th>\n",
       "      <th>text</th>\n",
       "      <th>target</th>\n",
       "    </tr>\n",
       "  </thead>\n",
       "  <tbody>\n",
       "    <tr>\n",
       "      <th>0</th>\n",
       "      <td>neutral</td>\n",
       "      <td>@VirginAmerica What @dhepburn said.</td>\n",
       "      <td>2</td>\n",
       "    </tr>\n",
       "    <tr>\n",
       "      <th>1</th>\n",
       "      <td>positive</td>\n",
       "      <td>@VirginAmerica plus you've added commercials t...</td>\n",
       "      <td>1</td>\n",
       "    </tr>\n",
       "    <tr>\n",
       "      <th>2</th>\n",
       "      <td>neutral</td>\n",
       "      <td>@VirginAmerica I didn't today... Must mean I n...</td>\n",
       "      <td>2</td>\n",
       "    </tr>\n",
       "    <tr>\n",
       "      <th>3</th>\n",
       "      <td>negative</td>\n",
       "      <td>@VirginAmerica it's really aggressive to blast...</td>\n",
       "      <td>0</td>\n",
       "    </tr>\n",
       "    <tr>\n",
       "      <th>4</th>\n",
       "      <td>negative</td>\n",
       "      <td>@VirginAmerica and it's a really big bad thing...</td>\n",
       "      <td>0</td>\n",
       "    </tr>\n",
       "  </tbody>\n",
       "</table>\n",
       "</div>"
      ],
      "text/plain": [
       "  airline_sentiment                                               text  target\n",
       "0           neutral                @VirginAmerica What @dhepburn said.       2\n",
       "1          positive  @VirginAmerica plus you've added commercials t...       1\n",
       "2           neutral  @VirginAmerica I didn't today... Must mean I n...       2\n",
       "3          negative  @VirginAmerica it's really aggressive to blast...       0\n",
       "4          negative  @VirginAmerica and it's a really big bad thing...       0"
      ]
     },
     "execution_count": 22,
     "metadata": {},
     "output_type": "execute_result"
    }
   ],
   "source": [
    "#in order to enter this trained model to make same updates to it negative,  positve and neutral should be converted to 0,1 and 2\n",
    "target={'positive':1,'negative':0, 'neutral':2}\n",
    "df['target']=df['airline_sentiment'].map(target)\n",
    "df.head()"
   ]
  },
  {
   "cell_type": "code",
   "execution_count": 23,
   "id": "bcf510cd",
   "metadata": {},
   "outputs": [
    {
     "data": {
      "text/html": [
       "<div>\n",
       "<style scoped>\n",
       "    .dataframe tbody tr th:only-of-type {\n",
       "        vertical-align: middle;\n",
       "    }\n",
       "\n",
       "    .dataframe tbody tr th {\n",
       "        vertical-align: top;\n",
       "    }\n",
       "\n",
       "    .dataframe thead th {\n",
       "        text-align: right;\n",
       "    }\n",
       "</style>\n",
       "<table border=\"1\" class=\"dataframe\">\n",
       "  <thead>\n",
       "    <tr style=\"text-align: right;\">\n",
       "      <th></th>\n",
       "      <th>text</th>\n",
       "      <th>target</th>\n",
       "    </tr>\n",
       "  </thead>\n",
       "  <tbody>\n",
       "    <tr>\n",
       "      <th>0</th>\n",
       "      <td>@VirginAmerica What @dhepburn said.</td>\n",
       "      <td>2</td>\n",
       "    </tr>\n",
       "    <tr>\n",
       "      <th>1</th>\n",
       "      <td>@VirginAmerica plus you've added commercials t...</td>\n",
       "      <td>1</td>\n",
       "    </tr>\n",
       "    <tr>\n",
       "      <th>2</th>\n",
       "      <td>@VirginAmerica I didn't today... Must mean I n...</td>\n",
       "      <td>2</td>\n",
       "    </tr>\n",
       "    <tr>\n",
       "      <th>3</th>\n",
       "      <td>@VirginAmerica it's really aggressive to blast...</td>\n",
       "      <td>0</td>\n",
       "    </tr>\n",
       "    <tr>\n",
       "      <th>4</th>\n",
       "      <td>@VirginAmerica and it's a really big bad thing...</td>\n",
       "      <td>0</td>\n",
       "    </tr>\n",
       "  </tbody>\n",
       "</table>\n",
       "</div>"
      ],
      "text/plain": [
       "                                                text  target\n",
       "0                @VirginAmerica What @dhepburn said.       2\n",
       "1  @VirginAmerica plus you've added commercials t...       1\n",
       "2  @VirginAmerica I didn't today... Must mean I n...       2\n",
       "3  @VirginAmerica it's really aggressive to blast...       0\n",
       "4  @VirginAmerica and it's a really big bad thing...       0"
      ]
     },
     "execution_count": 23,
     "metadata": {},
     "output_type": "execute_result"
    }
   ],
   "source": [
    "df=df[['text','target']]\n",
    "df.head()"
   ]
  },
  {
   "cell_type": "code",
   "execution_count": null,
   "id": "da8d0aca",
   "metadata": {},
   "outputs": [],
   "source": [
    "df.columns=['sentence','label']\n",
    "df.head()\n",
    "df.to_csv('data.csv',index=False)"
   ]
  },
  {
   "cell_type": "code",
   "execution_count": null,
   "id": "f40fb324",
   "metadata": {},
   "outputs": [],
   "source": [
    "import datasets\n",
    "from datasets import load_dataset #function from Hugging Face dataset\n",
    "#in pandas read_csv or read_excel \n",
    "#seborn (sns.load_datasets) you want to practice visualization or analysis with ready-to-use datasets..\n"
   ]
  },
  {
   "cell_type": "markdown",
   "id": "0f0d87b5",
   "metadata": {},
   "source": [
    "Use pd.read_csv() if you just want to load your own CSV file (like a file with sentences and labels) and analyze or manipulate the data using pandas (e.g., cleaning, filtering, etc.\n",
    "\n",
    "Use load_dataset() from Hugging Face if you're planning to use your CSV data for machine learning tasks (like text classification) and you want to take advantage of special features for ML (like easy tokenization and dataset splitting).\n",
    "\n",
    "Don't use sns.load_dataset() because it's only for pre-built example datasets from seaborn (like iris, tips, etc.), not your own CSV file\n",
    "\n"
   ]
  },
  {
   "cell_type": "code",
   "execution_count": null,
   "id": "d1fc0bd1",
   "metadata": {},
   "outputs": [
    {
     "data": {
      "text/plain": [
       "DatasetDict({\n",
       "    train: Dataset({\n",
       "        features: ['sentence', 'label'],\n",
       "        num_rows: 14640\n",
       "    })\n",
       "})"
      ]
     },
     "execution_count": 34,
     "metadata": {},
     "output_type": "execute_result"
    }
   ],
   "source": [
    "rawdataset=load_dataset('csv',data_files='data.csv')\n",
    "rawdataset"
   ]
  },
  {
   "cell_type": "markdown",
   "id": "c369ddf5",
   "metadata": {},
   "source": [
    "load_dataset() returns a DatasetDict that contains one or more datasets. Each dataset inside it represents a split of your data, and you can access those splits individually (like train, test, validation).\n",
    "\n",
    "\n",
    "\n"
   ]
  },
  {
   "cell_type": "markdown",
   "id": "6447facf",
   "metadata": {},
   "source": [
    "rawdataset['train']accessing the entire train split of the dataset, not a column. This gives you the full dataset that is in the train split"
   ]
  },
  {
   "cell_type": "code",
   "execution_count": 36,
   "id": "dddd5c5a",
   "metadata": {},
   "outputs": [
    {
     "data": {
      "text/plain": [
       "DatasetDict({\n",
       "    train: Dataset({\n",
       "        features: ['sentence', 'label'],\n",
       "        num_rows: 10248\n",
       "    })\n",
       "    test: Dataset({\n",
       "        features: ['sentence', 'label'],\n",
       "        num_rows: 4392\n",
       "    })\n",
       "})"
      ]
     },
     "execution_count": 36,
     "metadata": {},
     "output_type": "execute_result"
    }
   ],
   "source": [
    "split=rawdataset['train'].train_test_split(test_size=0.3,seed=42)\n",
    "split"
   ]
  },
  {
   "cell_type": "markdown",
   "id": "abe2c894",
   "metadata": {},
   "source": [
    "Pretrained model: You have a model that has already been trained on a large dataset to classify general sentiment (positive or negative) in text. This model can understand whether a sentence has a good or bad vibe but isn't specialized for any particular industry or domain.\n",
    "\n",
    "Fine-tuning: Now, you're working with an airline-specific dataset. Let's say you have a collection of customer feedback, reviews, or tweets about airlines. You want the model to understand not just positive or negative sentiment, but also the specific context (e.g., flight delays, customer service, baggage issues, etc.)."
   ]
  },
  {
   "cell_type": "markdown",
   "id": "6f1781de",
   "metadata": {},
   "source": [
    "Pipeline: It's a high-level, easy-to-use tool that handles everything for you (tokenizing, predicting, etc.). You just provide input text and get the result.\n",
    "\n",
    "AutoTokenizer + AutoModelForSequenceClassification: These are low-level tools that give you more control over the process. You manually handle tokenization and pass it to the model to get predictions. This is more flexible if you want to customize how things work."
   ]
  },
  {
   "cell_type": "code",
   "execution_count": 59,
   "id": "9a415fa0",
   "metadata": {},
   "outputs": [],
   "source": [
    "from transformers import AutoTokenizer, AutoModelForSequenceClassification,pipeline"
   ]
  },
  {
   "cell_type": "markdown",
   "id": "21da79b7",
   "metadata": {},
   "source": [
    "BERT and RoBERTa are transformer-based models that are primarily used for understanding the input text and making predictions, such as in sentiment analysis tasks.(Both encoders)\n",
    "\n",
    "If your task requires sensitivity to capitalization (like distinguishing between a brand name or proper noun), cased BERT might be preferred.\n",
    "\n",
    "RoBERTa is generally a better choice for performance, as it benefits from optimizations over BERT."
   ]
  },
  {
   "cell_type": "code",
   "execution_count": 42,
   "id": "0c2622b0",
   "metadata": {},
   "outputs": [
    {
     "data": {
      "text/plain": [
       "'bert-base-cased'"
      ]
     },
     "execution_count": 42,
     "metadata": {},
     "output_type": "execute_result"
    }
   ],
   "source": [
    "\n",
    "model=\"bert-base-cased\"\n",
    "model"
   ]
  },
  {
   "cell_type": "code",
   "execution_count": null,
   "id": "a86ba328",
   "metadata": {},
   "outputs": [
    {
     "name": "stderr",
     "output_type": "stream",
     "text": [
      "c:\\Users\\asus\\Desktop\\LLM\\venv\\lib\\site-packages\\huggingface_hub\\file_download.py:896: FutureWarning: `resume_download` is deprecated and will be removed in version 1.0.0. Downloads always resume when possible. If you want to force a new download, use `force_download=True`.\n",
      "  warnings.warn(\n"
     ]
    }
   ],
   "source": [
    "tokenizer=AutoTokenizer.from_pretrained(model)"
   ]
  },
  {
   "cell_type": "code",
   "execution_count": 44,
   "id": "3319d667",
   "metadata": {},
   "outputs": [],
   "source": [
    "def tokenize(batch):\n",
    "    return tokenizer(batch['sentence'],truncation=True) #if size>expected"
   ]
  },
  {
   "cell_type": "markdown",
   "id": "f88a642a",
   "metadata": {},
   "source": [
    "batch refers to a subset of the total data that is processed at once during training or inference. "
   ]
  },
  {
   "cell_type": "markdown",
   "id": "bfea86d4",
   "metadata": {},
   "source": [
    "The dataset.map() function is commonly used in libraries like Hugging Face's Datasets to apply a function to every example in a dataset"
   ]
  },
  {
   "cell_type": "code",
   "execution_count": 73,
   "id": "df9d856e",
   "metadata": {},
   "outputs": [
    {
     "name": "stderr",
     "output_type": "stream",
     "text": [
      "Map: 100%|██████████| 10248/10248 [00:02<00:00, 4285.38 examples/s]\n"
     ]
    }
   ],
   "source": [
    "tokenizeddataset=split.map(tokenize,batched=True)#pass them by batches, map means for each batch inside train and split tokenize them"
   ]
  },
  {
   "cell_type": "code",
   "execution_count": null,
   "id": "f846f995",
   "metadata": {},
   "outputs": [],
   "source": [
    "tokenizeddataset['train']['input_ids']"
   ]
  },
  {
   "cell_type": "code",
   "execution_count": 48,
   "id": "4b635e29",
   "metadata": {},
   "outputs": [],
   "source": [
    "from transformers import Trainer, TrainingArguments"
   ]
  },
  {
   "cell_type": "markdown",
   "id": "2847f88f",
   "metadata": {},
   "source": [
    "num_labels=3 in the AutoModelForSequenceClassification model, you're telling the model that you're working with a 3-class classification task. This means that the model will output 3 logits (one for each class), and your labels should be in the range 0, 1, or 2, corresponding to the 3 classes."
   ]
  },
  {
   "cell_type": "markdown",
   "id": "b8d86bc6",
   "metadata": {},
   "source": [
    "mod=AutoModelForSequenceClassification.from_pretrained(model,num_labels=3)"
   ]
  },
  {
   "cell_type": "markdown",
   "id": "dbf2b9b8",
   "metadata": {},
   "source": [
    "It uses tokens IDS to make prediction"
   ]
  },
  {
   "cell_type": "code",
   "execution_count": null,
   "id": "49603a3a",
   "metadata": {},
   "outputs": [],
   "source": [
    "mod"
   ]
  },
  {
   "cell_type": "markdown",
   "id": "bbce1b95",
   "metadata": {},
   "source": [
    "TrainingArguments: It's like a settings page where you tell the model how to train.\n",
    "\n",
    "What you define:\n",
    "\n",
    "How many times to go through the data (epochs).\n",
    "\n",
    "The batch size (how many examples to train on at once).\n",
    "\n",
    "The learning rate (how fast the model learns).\n",
    "\n",
    "Where to save the model.\n",
    "\n",
    "When to evaluate or log the results.\n",
    "\n",
    "Trainer: It's a helper that does the actual work of training the model.\n",
    "\n",
    "What it does:\n",
    "\n",
    "Takes care of the training loop (forward and backward passes).\n",
    "\n",
    "Handles evaluations to see how well the model is doing.\n",
    "\n",
    "Logs the results and saves the model.\n",
    "\n",
    "\n",
    "\n"
   ]
  },
  {
   "cell_type": "markdown",
   "id": "ebf2cd93",
   "metadata": {},
   "source": [
    "When the model makes a wrong prediction, it uses backpropagation to update the weights, so it can make better predictions in the future. These updated weights and evaluation of testing sentenes after each ephoc saved on output-dir"
   ]
  },
  {
   "cell_type": "code",
   "execution_count": null,
   "id": "c9e0d7f2",
   "metadata": {},
   "outputs": [],
   "source": [
    "# Define the training arguments with correct spellings\n",
    "training_args = TrainingArguments(\n",
    "    output_dir='training_dir',                 # Where to save the model and results(how evaluation works and how the model learns from the first training epoch.)\n",
    "    evaluation_strategy='epoch',               # Evaluate the model at the end of each epoch\n",
    "    save_strategy='epoch',                     # Save the model at the end of each epoch\n",
    "    num_train_epochs=3,                        # Number of times to go through the entire dataset\n",
    "    per_device_train_batch_size=16,            # Batch size for training on each device (GPU/CPU)\n",
    "    per_device_eval_batch_size=64              # Batch size for evaluation on each device\n",
    ")"
   ]
  },
  {
   "cell_type": "markdown",
   "id": "3b260f55",
   "metadata": {},
   "source": [
    "compute metic: Evaluate how well the model is performing during training."
   ]
  },
  {
   "cell_type": "markdown",
   "id": "89d01143",
   "metadata": {},
   "source": [
    "Padding: Makes all sentences the same length by adding [PAD] tokens.\n",
    "\n",
    "Truncation: Cuts off extra words if the sentence is too long."
   ]
  },
  {
   "cell_type": "markdown",
   "id": "c1ad3c87",
   "metadata": {},
   "source": [
    "logits and labels come from the model's predictions and the true labels in the dataset\n",
    "logits come from the AutoModelForSequenceClassification when we pass the input data to the model for a forward pass."
   ]
  },
  {
   "cell_type": "code",
   "execution_count": null,
   "id": "8d1d5e38",
   "metadata": {},
   "outputs": [],
   "source": [
    "def computemetric(logits_and_labels):\n",
    "  logits,labels=logits_and_labels\n",
    "  predictions=np.argmax(logits,axis=-1)#operate across the columns for each row of logits and choose maxm\n",
    "  acc=np.mean(predictions==labels)#how man predictions were true\n",
    "  f1=f1_score(labels,predictions,average='micro')#a balance between precision and recall (how well the model finds all positives without making too many mistakes).\n",
    "  return{'accuracy':acc,'f1 score': f1}"
   ]
  },
  {
   "cell_type": "code",
   "execution_count": null,
   "id": "ee0c88cc",
   "metadata": {},
   "outputs": [],
   "source": [
    "trainer=Trainer(mod,training_args,train_dataset=tokenizeddataset['train'],eval_dataset=tokenizeddataset['test'],\n",
    "                tokenizer=tokenizer,compute_metrics=computemetric)"
   ]
  },
  {
   "cell_type": "code",
   "execution_count": null,
   "id": "d69e122a",
   "metadata": {},
   "outputs": [],
   "source": [
    "trainer.train()"
   ]
  },
  {
   "cell_type": "markdown",
   "id": "131df7d1",
   "metadata": {},
   "source": [
    "After fine-tuning, the result is either a new pretrained model or an updated version of your existing model. The trained model is saved in the output_dir.\n",
    "\n",
    "First, 16 training sentences and their labels will be tokenized and passed into the model. The model will then make predictions (logits), which will be compared to the actual labels. This is the step where the model learns. After processing all the sentences, the first epoch ends.\n",
    "\n",
    "At this point, we should compute evaluation metrics. We do this by passing 64 test sentences with their labels into the model, making predictions, and comparing the predicted logits to the true labels. From this, we calculate metrics such as accuracy, precision, and F1 score.\n",
    "\n",
    "After each epoch, we repeat this process to evaluate the model's performance. The metrics and updated model weights are saved in the output_dir after each epoch. Since we train for 3 epochs, there will be 3 sets of updated model weights saved.\n",
    "\n",
    "Finally, using the last checkpoint (from the final epoch) is the best choice, as it represents the model after full training."
   ]
  },
  {
   "cell_type": "markdown",
   "id": "1ccafd76",
   "metadata": {},
   "source": [
    "Weights: settings that control how the model makes predictions."
   ]
  },
  {
   "cell_type": "code",
   "execution_count": null,
   "id": "73805a94",
   "metadata": {},
   "outputs": [],
   "source": [
    "from transformers import pipeline\n",
    "newmodel=pipeline('text-classification',model=\"/content/training_dir/checkpoint-641\")#last checkpoint(updated version)\n",
    "predictions=newmodel(split['test']['sentence'])#testing using pipeline and the updated model\n",
    "split['test']['sentence']\n",
    "predictions #check the result\n",
    "\n"
   ]
  }
 ],
 "metadata": {
  "kernelspec": {
   "display_name": "venv",
   "language": "python",
   "name": "python3"
  },
  "language_info": {
   "codemirror_mode": {
    "name": "ipython",
    "version": 3
   },
   "file_extension": ".py",
   "mimetype": "text/x-python",
   "name": "python",
   "nbconvert_exporter": "python",
   "pygments_lexer": "ipython3",
   "version": "3.10.3"
  }
 },
 "nbformat": 4,
 "nbformat_minor": 5
}
